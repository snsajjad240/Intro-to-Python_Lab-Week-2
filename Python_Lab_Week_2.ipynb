{
  "nbformat": 4,
  "nbformat_minor": 0,
  "metadata": {
    "colab": {
      "provenance": []
    },
    "kernelspec": {
      "name": "python3",
      "display_name": "Python 3"
    },
    "language_info": {
      "name": "python"
    }
  },
  "cells": [
    {
      "cell_type": "code",
      "execution_count": 18,
      "metadata": {
        "colab": {
          "base_uri": "https://localhost:8080/"
        },
        "id": "kmbXFP-LaGYQ",
        "outputId": "2787d99e-865e-44ee-b0ba-d976aacf4ce0"
      },
      "outputs": [
        {
          "output_type": "stream",
          "name": "stdout",
          "text": [
            "Original Distance in Kilometers:0\n",
            "The converted distance to miles is 0.0\n"
          ]
        }
      ],
      "source": [
        "#Task 1: Create a Kilometer to Mile Conversion Tool\n",
        "x= float (input(\"Original Distance in Kilometers:\"))\n",
        "answer = x*0.621371\n",
        "print(\"The converted distance to miles is\",answer)"
      ]
    },
    {
      "cell_type": "code",
      "source": [
        "#Task 2:Celsius to Fahrenheit Conversion Tool\n",
        "y= float (input(\"Temperature in Celsius:\"))\n",
        "answer = (9/5)*y+32\n",
        "print(\"In Fahrenheit the temperature is:\",answer)"
      ],
      "metadata": {
        "colab": {
          "base_uri": "https://localhost:8080/"
        },
        "id": "IyMzRsomeCK3",
        "outputId": "be725e93-4b7f-4932-fa64-360e16d4c6c8"
      },
      "execution_count": 15,
      "outputs": [
        {
          "output_type": "stream",
          "name": "stdout",
          "text": [
            "Temperature in Celsius:32\n",
            "In Fahrenheit the temperature is: 89.6\n"
          ]
        }
      ]
    },
    {
      "cell_type": "code",
      "source": [
        "#Task 3: Binary to Decimal Converter Tool\n",
        "z= (input(\"Give a Binary Value\"))\n",
        "answer= int(z, 2)\n",
        "print (\"The decimal value would be\",answer)"
      ],
      "metadata": {
        "colab": {
          "base_uri": "https://localhost:8080/"
        },
        "id": "-IeEEW9pevlr",
        "outputId": "276bd12b-5854-4630-ad81-50b486bd6760"
      },
      "execution_count": 19,
      "outputs": [
        {
          "output_type": "stream",
          "name": "stdout",
          "text": [
            "Give a Binary Value0\n",
            "The decimal value would be 0\n"
          ]
        }
      ]
    }
  ]
}